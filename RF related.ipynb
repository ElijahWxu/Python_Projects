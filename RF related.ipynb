{
 "cells": [
  {
   "cell_type": "code",
   "execution_count": 2,
   "metadata": {
    "collapsed": true
   },
   "outputs": [],
   "source": [
    "import numpy as np\n",
    "import scipy as scipy\n",
    "import matplotlib.pyplot as plt\n",
    "% matplotlib inline"
   ]
  },
  {
   "cell_type": "code",
   "execution_count": 3,
   "metadata": {
    "collapsed": false
   },
   "outputs": [
    {
     "name": "stdout",
     "output_type": "stream",
     "text": [
      "0.00035124073655203627 0.01844806727666778 52.522573143889026\n"
     ]
    }
   ],
   "source": [
    "frf=2*10**9   #(frequency in Hz)\n",
    "cc=299792458      # m/s\n",
    "mu0=np.pi/4*10**-7\n",
    "wavelength=cc/frf  \n",
    "omega0=2*np.pi*frf\n",
    "sigmaSS=1.45*10**6\n",
    "sigmaCu=4*10**9\n",
    "Rs_SS=(mu0*omega0/(2*sigmaSS))**0.5 # At low temperature\n",
    "Rs_Cu=(mu0*omega0/(2*sigmaCu))**0.5 # At Low temperatuer\n",
    "print(Rs_Cu,Rs_SS,Rs_SS/Rs_Cu)"
   ]
  },
  {
   "cell_type": "code",
   "execution_count": 4,
   "metadata": {
    "collapsed": false
   },
   "outputs": [
    {
     "name": "stdout",
     "output_type": "stream",
     "text": [
      "8.339484467037924e-05\n"
     ]
    }
   ],
   "source": [
    "#LeREC\n",
    "Qb=100*10**-12\n",
    "sigmabunch=0.01\n",
    "dPperm=Qb*Qb*703*10**6/(2*np.pi)**2/0.015*Rs_Cu*2*10**10\n",
    "print(dPperm)"
   ]
  },
  {
   "cell_type": "code",
   "execution_count": null,
   "metadata": {
    "collapsed": true
   },
   "outputs": [],
   "source": []
  }
 ],
 "metadata": {
  "kernelspec": {
   "display_name": "Python 3",
   "language": "python",
   "name": "python3"
  },
  "language_info": {
   "codemirror_mode": {
    "name": "ipython",
    "version": 3
   },
   "file_extension": ".py",
   "mimetype": "text/x-python",
   "name": "python",
   "nbconvert_exporter": "python",
   "pygments_lexer": "ipython3",
   "version": "3.5.1"
  }
 },
 "nbformat": 4,
 "nbformat_minor": 0
}
