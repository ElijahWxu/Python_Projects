{
 "cells": [
  {
   "cell_type": "code",
   "execution_count": 6,
   "metadata": {
    "collapsed": false
   },
   "outputs": [],
   "source": [
    "# beam-cavity interaction\n",
    "import numpy as np\n",
    "import scipy as scipy\n",
    "import matplotlib.pyplot as plt\n",
    "from scipy import constants"
   ]
  },
  {
   "cell_type": "code",
   "execution_count": 7,
   "metadata": {
    "collapsed": false
   },
   "outputs": [
    {
     "name": "stdout",
     "output_type": "stream",
     "text": [
      "1.777e-04\n"
     ]
    }
   ],
   "source": [
    "# Common constants\n",
    "cc=299792458      # m/s\n",
    "sigmas=0.003 #(3mm)\n",
    "frms=cc/np.sqrt(2)/np.pi/sigmas\n",
    "deltaTforACE3P=1/(75*frms)*cc\n",
    "wakelength=cc*1.6*10**-9\n",
    "print (\"%.3e\" % deltaTforACE3P)\n",
    "\n",
    "frf=647.4*10**6\n",
    "Trf=1/frf\n",
    "Krf=2*np.pi/(cc*Trf)\n",
    "Omegarf=2*np.pi/Trf\n",
    "f9=647.4*10**6/69\n",
    "T9=1/f9\n",
    "f78=f9/120\n",
    "T78=1/f78\n",
    "Qb=5.3*10**-9\n",
    "Np=5 # Number of pass\n",
    "h9M=T9/(Np*Trf)\n",
    "h78k=120/110\n",
    "sigmat=0.003/cc\n",
    "Qb/T9\n",
    "Td=180/360*Trf\n",
    "T9s=T9-Np*Trf # The spacing between 9 MHz bunch train\n",
    "T78s=T78-110*T9  # The spacing between 78 KHzs\n",
    "% matplotlib inline"
   ]
  },
  {
   "cell_type": "code",
   "execution_count": 13,
   "metadata": {
    "collapsed": false
   },
   "outputs": [
    {
     "name": "stdout",
     "output_type": "stream",
     "text": [
      "79.09908699538462\n"
     ]
    },
    {
     "data": {
      "text/plain": [
       "78.7221468334878"
      ]
     },
     "execution_count": 13,
     "metadata": {},
     "output_type": "execute_result"
    }
   ],
   "source": [
    "#Ceta parameters\n",
    "Lcircumference=cc*1/1.3e9*343\n",
    "print(Lcircumference)\n",
    "17*10*cc*1/frf"
   ]
  },
  {
   "cell_type": "code",
   "execution_count": 20,
   "metadata": {
    "collapsed": false
   },
   "outputs": [
    {
     "data": {
      "text/plain": [
       "0.86602540378443871"
      ]
     },
     "execution_count": 20,
     "metadata": {},
     "output_type": "execute_result"
    }
   ],
   "source": [
    "scipy.cos(np.pi/6)"
   ]
  },
  {
   "cell_type": "code",
   "execution_count": 21,
   "metadata": {
    "collapsed": false
   },
   "outputs": [
    {
     "data": {
      "text/plain": [
       "2.5742419753086416"
      ]
     },
     "execution_count": 21,
     "metadata": {},
     "output_type": "execute_result"
    }
   ],
   "source": [
    "(380/300)**4"
   ]
  },
  {
   "cell_type": "code",
   "execution_count": null,
   "metadata": {
    "collapsed": true
   },
   "outputs": [],
   "source": []
  }
 ],
 "metadata": {
  "kernelspec": {
   "display_name": "Python 3",
   "language": "python",
   "name": "python3"
  },
  "language_info": {
   "codemirror_mode": {
    "name": "ipython",
    "version": 3
   },
   "file_extension": ".py",
   "mimetype": "text/x-python",
   "name": "python",
   "nbconvert_exporter": "python",
   "pygments_lexer": "ipython3",
   "version": "3.5.1"
  }
 },
 "nbformat": 4,
 "nbformat_minor": 0
}
